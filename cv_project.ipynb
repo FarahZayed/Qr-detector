{
  "nbformat": 4,
  "nbformat_minor": 0,
  "metadata": {
    "colab": {
      "provenance": [],
      "include_colab_link": true
    },
    "kernelspec": {
      "name": "python3",
      "display_name": "Python 3"
    },
    "language_info": {
      "name": "python"
    }
  },
  "cells": [
    {
      "cell_type": "markdown",
      "metadata": {
        "id": "view-in-github",
        "colab_type": "text"
      },
      "source": [
        "<a href=\"https://colab.research.google.com/github/FarahZayed/Qr-detector/blob/master/cv_project.ipynb\" target=\"_parent\"><img src=\"https://colab.research.google.com/assets/colab-badge.svg\" alt=\"Open In Colab\"/></a>"
      ]
    },
    {
      "cell_type": "markdown",
      "source": [
        "# **import** **libraries**"
      ],
      "metadata": {
        "id": "UOj6ulzFR7Ki"
      }
    },
    {
      "cell_type": "code",
      "execution_count": 9,
      "metadata": {
        "id": "GgLWkJvJR5Tu"
      },
      "outputs": [],
      "source": [
        "import cv2\n",
        "import matplotlib.pyplot as plt\n",
        "from PIL import Image\n",
        "from google.colab.patches import cv2_imshow\n",
        "import numpy as np\n",
        "from PIL import Image, ImageFilter\n",
        "import math\n",
        "from matplotlib import pyplot as plt"
      ]
    },
    {
      "cell_type": "markdown",
      "source": [
        "# Read the image"
      ],
      "metadata": {
        "id": "c3EIx7B1SRfS"
      }
    },
    {
      "cell_type": "code",
      "source": [
        "#insert the path of the image\n",
        "img = cv2.imread(\"/content/04-Black-mirror.png\", cv2.IMREAD_GRAYSCALE)\n",
        "_, thresh = cv2.threshold(img, 0, 255, cv2.THRESH_BINARY)"
      ],
      "metadata": {
        "id": "3ShONM6vSXcX"
      },
      "execution_count": 10,
      "outputs": []
    },
    {
      "cell_type": "markdown",
      "source": [
        "#  Function ma7tgnha"
      ],
      "metadata": {
        "id": "0pH4EtGBSPDm"
      }
    },
    {
      "cell_type": "code",
      "source": [
        "#inverts the image\n",
        "def invert_image(image):\n",
        "    inverted_gray = 255 - image\n",
        "    inverted_image = cv2.cvtColor(inverted_gray, cv2.COLOR_GRAY2BGR)\n",
        "    return inverted_image\n",
        "\n",
        "#\n",
        "def angle_ABC(a, b, c):\n",
        "    ba = a - b\n",
        "    bc = c - b\n",
        "    cosine_angle = np.dot(ba, bc) / (np.linalg.norm(ba) * np.linalg.norm(bc))\n",
        "    angle = np.arccos(cosine_angle)\n",
        "    return np.degrees(angle)\n",
        "\n",
        "\n",
        "#\n",
        "def find_bad_dists(hull, distance = 10):\n",
        "    mask = []\n",
        "    points, _, _ = hull.shape\n",
        "\n",
        "    for i in range(points):\n",
        "        ai = i\n",
        "        bi = (i+1)%points\n",
        "        x1 = hull[ai][0][0]\n",
        "        y1 = hull[ai][0][1]\n",
        "        x2 = hull[bi][0][0]\n",
        "        y2 = hull[bi][0][1]\n",
        "        dist = np.sqrt((x2 - x1)**2 + (y2 - y1)**2 )\n",
        "        if dist < distance:\n",
        "            print('point nr =', bi, ' -> distance =',dist)\n",
        "            mask.append(bi)\n",
        "    return mask\n",
        "\n",
        "\n",
        "\n",
        "def find_bad_angles(hull, acute_angle = 30, obtuse_angle = 140):\n",
        "\n",
        "    mask = []\n",
        "    points, _, _ = hull.shape\n",
        "\n",
        "    for i in range(points):\n",
        "        ai = i\n",
        "        bi = (i+1)%points\n",
        "        ci = (i+2)%points\n",
        "\n",
        "        a = hull[ai][0]\n",
        "        b = hull[bi][0]\n",
        "        c = hull[ci][0]\n",
        "        angle = angle_ABC(a, b, c)\n",
        "        if angle > obtuse_angle or angle < acute_angle:\n",
        "            mask.append(bi)\n",
        "    return mask\n",
        "\n",
        "\n",
        "\n",
        "def mark_points(hull):\n",
        "    a_list=[]\n",
        "    points, _, _ = hull.shape\n",
        "\n",
        "    for i in range(points):\n",
        "        r = int(np.random.randint(100,255,1)[0])\n",
        "        g = int(np.random.randint(100,255,1)[0])\n",
        "        b = int(np.random.randint(100,255,1)[0])\n",
        "        a_list.append(tuple([hull[i][0][0], hull[i][0][1]]))\n",
        "\n",
        "        cv2.circle(image, (hull[i][0][0], hull[i][0][1]) , np.random.randint(10,20,1)[0], (r,g,b), 2)\n",
        "        return a_list\n"
      ],
      "metadata": {
        "id": "OJByWf-9B_h_"
      },
      "execution_count": 11,
      "outputs": []
    },
    {
      "cell_type": "code",
      "source": [
        "def remove_quietnoise(img):\n",
        "    start_row = -1\n",
        "    start_col = -1\n",
        "    end_row = -1\n",
        "    end_col = -1\n",
        "    for row_index, row in enumerate(img):\n",
        "     for pixel in row:\n",
        "        if pixel != 255:\n",
        "            start_row = row_index\n",
        "            break\n",
        "     if start_row != -1:\n",
        "        break\n",
        "    for row_index, row in enumerate(img[::-1]):\n",
        "     for pixel in row:\n",
        "        if pixel != 255:\n",
        "            end_row = img.shape[0] - row_index\n",
        "            break\n",
        "     if end_row != -1:\n",
        "        break\n",
        "    for col_index, col in enumerate(cv2.transpose(img)):\n",
        "     for pixel in col:\n",
        "        if pixel != 255:\n",
        "            start_col = col_index\n",
        "            break\n",
        "     if start_col != -1:\n",
        "        break\n",
        "    for col_index, col in enumerate(cv2.transpose(img)[::-1]):\n",
        "     for pixel in col:\n",
        "        if pixel != 255:\n",
        "            end_col = img.shape[1] - col_index\n",
        "            break\n",
        "     if end_col != -1:\n",
        "        break\n",
        "    qr_no_quiet_zone = img[start_row:end_row, start_col:end_col]\n",
        "    return qr_no_quiet_zone\n",
        "    fig = plt.figure(figsize=(5, 5));\n",
        "    plt.xticks([], []);\n",
        "    plt.yticks([], []);\n",
        "    fig.get_axes()[0].spines[:].set_color('red');\n",
        "    fig.get_axes()[0].spines[:].set_linewidth(40);\n",
        "    fig.get_axes()[0].spines[:].set_position((\"outward\", 20))\n",
        "    plt.title('QR code without quiet zone', y = 1.15, color='red');\n",
        "    plt.imshow(qr_no_quiet_zone, cmap='gray');\n",
        "\n",
        "\n",
        "def getcellsizeForRotation(imgremove):\n",
        "    size=0\n",
        "    for pixel in imgremove[-1, ::-1]:\n",
        "      if (pixel != 0): break\n",
        "      size += 1\n",
        "    return 0\n",
        "    grid_cell_size = round(size/7)\n",
        "    grid_cells_num = round(imgremove.shape[0]/grid_cell_size)\n",
        "    return grid_cell_size,grid_cells_num\n",
        "\n",
        "def getqrcell(remove):\n",
        "    if remove.shape[0] % grid_cell_size != 0 or remove.shape[1] % grid_cell_size != 0:\n",
        "            print(\"Warning: Grid cell size resulted in fraction. Adjusting...\")\n",
        "            img_resized = cv2.resize(remove, (924, 924))\n",
        "\n",
        "    # If the resized image is larger than the target size, crop it\n",
        "            if remove.shape[0] > 924 or remove.shape[1] > 924:\n",
        "                remove = img_resized[:924, :924]\n",
        "            else:\n",
        "                remove = img_resized\n",
        "    try:\n",
        "            qr_cells = remove.reshape((\n",
        "            grid_cells_num,\n",
        "            grid_cell_size,\n",
        "            grid_cells_num,\n",
        "            grid_cell_size,\n",
        "            )).swapaxes(1, 2)\n",
        "\n",
        "    except ValueError:\n",
        "        print(\"Error: Unable to reshape image into grid cells.\")\n",
        "        qr_cells=0\n",
        "    return qr_cells\n"
      ],
      "metadata": {
        "id": "LkeUEJYZSmMY"
      },
      "execution_count": 19,
      "outputs": []
    },
    {
      "cell_type": "markdown",
      "source": [
        "# function that get preprocessing flags"
      ],
      "metadata": {
        "id": "LieUdBISTZO8"
      }
    },
    {
      "cell_type": "code",
      "source": [
        "#Note: rotation hat crash fi sorten 3ashan el binrization bytl3 kolo aswd aw kolo abyd fa mmken na3ml binarize 7asb el case\n",
        "#mesh 3arfa nashof?? PLUS el banana mafrod ttl3 anha rotated!!! mesh 3arf bardo\n",
        "def checkrotation(img):\n",
        "    imgremove = remove_quietnoise(img)\n",
        "    grid_cell_size= getcellsizeForRotation(imgremove)\n",
        "    if grid_cell_size==0:\n",
        "        print(\"The image is not rotated it may have some other noise that must be solved first!!!\")\n",
        "        return False\n",
        "    inverted_img = cv2.bitwise_not(imgremove)\n",
        "    shapeofste=3*grid_cell_size -1\n",
        "    se_rect = cv2.getStructuringElement(cv2.MORPH_RECT, (shapeofste, shapeofste))\n",
        "    _, se_binarized = cv2.threshold(se_rect, 128, 1, cv2.THRESH_BINARY)\n",
        "    se_binarized = se_binarized.astype(int)\n",
        "    se_binarized[se_binarized == 0] = -1\n",
        "    erosion = cv2.erode(inverted_img, se_rect, iterations=1)\n",
        "    plt.imshow(erosion,cmap='gray');\n",
        "    partwithrotato=erosion[(imgremove.shape[0]-7*grid_cell_size):imgremove.shape[0], imgremove.shape[1]-7*grid_cell_size:imgremove.shape[1]];\n",
        "    for row in range(partwithrotato.shape[0]):\n",
        "        for col in range(partwithrotato.shape[1]):\n",
        "            if partwithrotato[row,col] == 255:\n",
        "                print(\"ROTATEDDD!!!\")\n",
        "                return True\n",
        "    print(\"NOT ROTATED!!!\")\n",
        "    return False\n",
        "\n",
        "\n",
        "def checkblured(image):\n",
        "    f_transform = np.fft.fft2(image)\n",
        "    f_transform_shifted = np.fft.fftshift(f_transform)\n",
        "    magnitude_spectrum = 20*np.log(np.abs(f_transform_shifted))\n",
        "\n",
        "\n",
        "    sobelx = cv2.Sobel(image, cv2.CV_64F, 1, 0, ksize=3)\n",
        "    sobely = cv2.Sobel(image, cv2.CV_64F, 0, 1, ksize=3)\n",
        "    gradient_magnitude = np.sqrt(sobelx**2 + sobely**2)\n",
        "    avg_gradient_magnitude = np.mean(gradient_magnitude)\n",
        "\n",
        "    frequency_threshold_max = 375\n",
        "    frequency_threshold_min=300\n",
        "    gradient_threshold_max =35\n",
        "    gradient_threshold_min= 20\n",
        "\n",
        "    if (frequency_threshold_min>np.max(magnitude_spectrum) or  frequency_threshold_max < np.max(magnitude_spectrum) ) or ( avg_gradient_magnitude > gradient_threshold_max or avg_gradient_magnitude<gradient_threshold_min):\n",
        "        return False\n",
        "    else:\n",
        "        return True\n",
        "\n",
        "def correctqrcell(qr_cells):\n",
        "\n",
        " for i in range(qr_cells.shape[0]):\n",
        "   for j in range(qr_cells.shape[1]):\n",
        "    cell=qr_cells[i][j]\n",
        "    white_pixel_count = np.sum(cell == 255)\n",
        "    black_pixel_count = np.sum(cell == 0)\n",
        "    if white_pixel_count > black_pixel_count:\n",
        "        for k in range(grid_cell_size):\n",
        "            for l in range(grid_cell_size):\n",
        "                qr_cells[i][j][k][l]=255\n",
        "    elif black_pixel_count > white_pixel_count:\n",
        "        for k in range(grid_cell_size):\n",
        "            for l in range(grid_cell_size):\n",
        "                qr_cells[i][j][k][l]=0\n",
        "\n",
        "\n",
        "    elif black_pixel_count == white_pixel_count:\n",
        "        for k in range(grid_cell_size):\n",
        "            for l in range(grid_cell_size):\n",
        "                qr_cells[i][j][k][l]=0\n",
        "    return qr_cells"
      ],
      "metadata": {
        "id": "RKjHTS4TTYM1"
      },
      "execution_count": 22,
      "outputs": []
    },
    {
      "cell_type": "markdown",
      "source": [
        "# flags to do preprocessing"
      ],
      "metadata": {
        "id": "PzSFn2IAS6EY"
      }
    },
    {
      "cell_type": "code",
      "source": [
        "rotationflag= checkrotation(img)\n",
        "bluredflag =checkblured(img)\n",
        "print(bluredflag)"
      ],
      "metadata": {
        "colab": {
          "base_uri": "https://localhost:8080/"
        },
        "id": "YFBLVZSoTGFT",
        "outputId": "c2d11a0a-dac7-4ffc-ad07-60a80a183421"
      },
      "execution_count": 23,
      "outputs": [
        {
          "output_type": "stream",
          "name": "stdout",
          "text": [
            "The image is not rotated it may have some other noise that must be solved first!!!\n",
            "False\n"
          ]
        }
      ]
    },
    {
      "cell_type": "markdown",
      "source": [
        "# Function responsible for preprocessing"
      ],
      "metadata": {
        "id": "3imjv2MEUQYc"
      }
    },
    {
      "cell_type": "code",
      "source": [
        "def a3dlrotation(img):\n",
        "    imgremove = remove_quietnoise(img)\n",
        "    while(checkrotation(imgremove)):\n",
        "        imgremove = cv2.rotate(imgremove, cv2.ROTATE_90_CLOCKWISE)\n",
        "    return imgremove\n",
        "\n",
        "def nadafblured(img):\n",
        "         # nazbt el soraa\n",
        "        blurred = cv2.GaussianBlur(img, (7, 7), 0)\n",
        "        sharpened = cv2.addWeighted(img, 2.5, blurred, -0.5, 0)\n",
        "        _, thresh_img = cv2.threshold(sharpened, 127, 255, cv2.THRESH_BINARY)\n",
        "        #shalena el noise w shwait araf erode keda\n",
        "        remove= remove_quietnoise(thresh_img)\n",
        "        se_rect = cv2.getStructuringElement(cv2.MORPH_RECT, (9,9))\n",
        "        _, se_binarized = cv2.threshold(se_rect, 128, 1, cv2.THRESH_BINARY)\n",
        "        se_binarized = se_binarized.astype(int)\n",
        "        se_binarized[se_binarized == 0] = -1\n",
        "        erosion = cv2.erode(remove, se_binarized, iterations=1)\n",
        "        needcorrectionimg=erosion\n",
        "        #this erosion to get the correct cell size\n",
        "        while(erosion[0][0]!=0):\n",
        "          erosion = cv2.erode(erosion, se_binarized, iterations=1)\n",
        "        grid_cell_size,grid_cells_num=getimageafterreshape(erosion)\n",
        "        qr_cells=getqrcell(needcorrectionimg)\n",
        "        qr_cells=correctqrcell(qr_cells)\n",
        "        return qr_cells\n",
        "\n",
        "def skewed(img):\n",
        "    invimg = invert_image(img)\n",
        "\n",
        "    invg = cv2.cvtColor(invimg,cv2.COLOR_RGB2GRAY)\n",
        "    ret,thresh = cv2.threshold(invg,127,255,0)\n",
        "\n",
        "    contours, hier = cv2.findContours(thresh, cv2.RETR_EXTERNAL, cv2.CHAIN_APPROX_SIMPLE)\n",
        "    image =  invg = cv2.cvtColor(invg,cv2.COLOR_GRAY2RGB)\n",
        "    length = len(contours)\n",
        "    cont = np.concatenate([contours[i] for i in range(length)], axis=0)\n",
        "\n",
        "    cnt_len = cv2.arcLength(cont, True)\n",
        "    cont = cv2.approxPolyDP(cont, .01*cnt_len, True)\n",
        "    hull = cv2.convexHull(cont)\n",
        "\n",
        "\n",
        "    mask = find_bad_dists(hull)\n",
        "    hull = np.delete(hull, mask, axis=0)\n",
        "\n",
        "    mask = find_bad_angles(hull)\n",
        "    hull = np.delete(hull, mask, axis=0)\n",
        "\n",
        "    a_list=mark_points(hull)\n",
        "\n",
        "    uni_hull = []\n",
        "    uni_hull.append(hull)\n",
        "    cv2.drawContours(image,uni_hull,-1,255,2)\n",
        "\n"
      ],
      "metadata": {
        "id": "C2-13QUoUTMv"
      },
      "execution_count": null,
      "outputs": []
    },
    {
      "cell_type": "markdown",
      "source": [
        "# Preprocessing"
      ],
      "metadata": {
        "id": "8L3NxC3xUH_M"
      }
    },
    {
      "cell_type": "code",
      "source": [
        "imgafterpreproc=img\n",
        "if(rotationflag==True):\n",
        "    imgafterpreproc= a3dlrotation(img)\n",
        "if(bluredflag==True):\n",
        "    imgafterpreproc= nadafblured(img)\n",
        "#ba2et el if\n"
      ],
      "metadata": {
        "colab": {
          "base_uri": "https://localhost:8080/",
          "height": 452
        },
        "id": "qc794tlrUHp-",
        "outputId": "5efe07ac-9755-44c8-fcf6-79143199aa91"
      },
      "execution_count": null,
      "outputs": [
        {
          "output_type": "execute_result",
          "data": {
            "text/plain": [
              "<matplotlib.image.AxesImage at 0x792058252800>"
            ]
          },
          "metadata": {},
          "execution_count": 55
        },
        {
          "output_type": "display_data",
          "data": {
            "text/plain": [
              "<Figure size 640x480 with 1 Axes>"
            ],
            "image/png": "[encoded data removed]"
          },
          "metadata": {}
        }
      ]
    },
    {
      "cell_type": "code",
      "source": [
        "# cv2_imshow(img)\n",
        "# img = cv2.cvtColor(img,cv2.THRESH_BINARY)\n",
        "real=img\n",
        "rows1,cols1=real.shape\n",
        "\n",
        "\n",
        "# [100,100],[1022,100],[100,1022],[1022,1022]\n",
        "pts2 = np.float32([[cols1,rows1],[0,rows1],[0,0], [cols1,0]])\n",
        "pts1 = np.float32(a_list)\n",
        "\n",
        "# M = cv2.getAffineTransform(pts1,pts2)\n",
        "\n",
        "# dst = cv2.warpAffine(img,M,(cols,rows))\n",
        "print(\"pts1\")\n",
        "print(pts1)\n",
        "\n",
        "# M = cv2.getAffineTransform(pts1, pts2)\n",
        "# dst = cv2.warpAffine(sora, M, (cols1, rows1))\n",
        "\n",
        "M = cv2.getPerspectiveTransform(pts1,pts2)\n",
        "\n",
        "dst = cv2.warpPerspective(real,M,(cols1,rows1))\n",
        "\n",
        "# erode = erode_image(dst)\n",
        "\n",
        "\n",
        "\n",
        "#back = add_border(dilated)\n",
        "# [316,197],[974,93],[61,952],[718,847]\n",
        "\n",
        "# fig.add_subplot(1, 2, 2)\n",
        "# plt.imshow(dst)\n",
        "# plt.axis('off')\n",
        "# plt.title('AFTER')\n",
        "\n",
        "\n",
        "plt.imshow(dst,cmap='gray')\n"
      ],
      "metadata": {
        "id": "n52jZ1uBDVTm",
        "outputId": "0a004f98-0c4b-4632-df19-c7d850b6d8c9",
        "colab": {
          "base_uri": "https://localhost:8080/",
          "height": 539
        }
      },
      "execution_count": null,
      "outputs": [
        {
          "output_type": "stream",
          "name": "stdout",
          "text": [
            "pts1\n",
            "[[718. 847.]\n",
            " [ 61. 952.]\n",
            " [317. 197.]\n",
            " [970.  93.]]\n"
          ]
        },
        {
          "output_type": "execute_result",
          "data": {
            "text/plain": [
              "<matplotlib.image.AxesImage at 0x7f2533474550>"
            ]
          },
          "metadata": {},
          "execution_count": 126
        },
        {
          "output_type": "display_data",
          "data": {
            "text/plain": [
              "<Figure size 640x480 with 1 Axes>"
            ],
            "image/png": "[encoded data removed]"
          },
          "metadata": {}
        }
      ]
    },
    {
      "cell_type": "markdown",
      "source": [
        "# **Reshape** hy5osh 3ala decode"
      ],
      "metadata": {
        "id": "DiJDka4pVBOb"
      }
    },
    {
      "cell_type": "code",
      "source": [
        "#later note:mmken nb2a nashel el condition el zayda wala ba an el sora ela 7ad ma htro7 mazbota shwia\n",
        "\n",
        "def getimageafterreshape(img):\n",
        "    #dah 3ak ATSRFYYYY\n",
        "    if(img[0][0]==255):\n",
        "        imgremove = remove_quietnoise(img)\n",
        "\n",
        "    else:\n",
        "        inverted_img = cv2.bitwise_not(img)            #noha 3ayza el invert hena\n",
        "        imgremove = remove_quietnoise(inverted_img)\n",
        "\n",
        "    size = 0\n",
        "\n",
        "    #h8yr hena leh 3ashan el taree2 dih mesh htnf3 3ala kol el sewar zay el rotated fa ana h7sb el 3aded el pixel bel change w inshallah 5er\n",
        "    if(imgremove[0][0]==255):\n",
        "        for pixel in imgremove[-1, ::-1]:\n",
        "         if (pixel != 0): break\n",
        "         size += 1\n",
        "\n",
        "    else:\n",
        "        for pixel in imgremove[0]:\n",
        "         if (pixel != 0): break\n",
        "         size += 1\n",
        "    grid_cell_size = round(size/7)\n",
        "    print(grid_cell_size)\n",
        "    grid_cells_num = round(imgremove.shape[0]/grid_cell_size)\n",
        "    print(grid_cells_num)\n",
        "    #NOHAAA\n",
        "    if imgremove.shape[0] % grid_cell_size != 0 or imgremove.shape[1] % grid_cell_size != 0:\n",
        "        print(\"Warning: Grid cell size resulted in fraction. Adjusting...\")\n",
        "        img_resized = cv2.resize(imgremove, (924, 924))\n",
        "\n",
        "# If the resized image is larger than the target size, crop it\n",
        "\n",
        "        if img_resized.shape[0] > 924 or img_resized.shape[1] > 924:\n",
        "            imgremove = img_resized[:924, :924]\n",
        "        else:\n",
        "            imgremove = img_resized\n",
        "\n",
        "\n",
        "            #cv2_imshow(imgremove)\n",
        "\n",
        "    try:\n",
        "\n",
        "        qr_cells = imgremove.reshape((\n",
        "        grid_cells_num,\n",
        "        grid_cell_size,\n",
        "        grid_cells_num,\n",
        "        grid_cell_size,\n",
        "        )).swapaxes(1, 2)\n",
        "        plt.imshow(imgremove,cmap='gray')\n",
        "        _, axes = plt.subplots(grid_cells_num, grid_cells_num, figsize=(5, 5))\n",
        "        for i, row in enumerate(axes):\n",
        "          for j, col in enumerate(row):\n",
        "              col.imshow(qr_cells[i][j], cmap=\"gray\", vmin=0, vmax=255)\n",
        "              col.get_xaxis().set_visible(False)\n",
        "              col.get_yaxis().set_visible(False)\n",
        "              col.spines[:].set_color('red')\n",
        "\n",
        "\n",
        "        return qr_cells,grid_cells_num,grid_cell_size,imgremove\n",
        "\n",
        "    except ValueError:\n",
        "        print(\"Error: Unable to reshape image into grid cells.\")\n",
        "        return \"none\",grid_cells_num,grid_cell_size,imgremove\n",
        "\n",
        "\n",
        "\n",
        "#plt.imshow(imgremove,cmap='gray')\n",
        "\n",
        "#salama\n",
        "# print(size)\n",
        "# grid_cell_size = round(size/7)\n",
        "# print(grid_cell_size)\n",
        "# grid_cells_num = round(imgremove.shape[0]/grid_cell_size)\n",
        "# print(grid_cells_num)\n",
        "# qr_cells = imgremove.reshape((\n",
        "#     grid_cells_num,\n",
        "#     grid_cell_size,\n",
        "#     grid_cells_num,\n",
        "#     grid_cell_size,\n",
        "# )).swapaxes(1, 2)\n",
        "# plt.imshow(imgremove,cmap='gray')\n",
        "# _, axes = plt.subplots(grid_cells_num, grid_cells_num, figsize=(5, 5))\n",
        "# for i, row in enumerate(axes):\n",
        "#     for j, col in enumerate(row):\n",
        "#         col.imshow(qr_cells[i][j], cmap=\"gray\", vmin=0, vmax=255)\n",
        "#         col.get_xaxis().set_visible(False)\n",
        "#         col.get_yaxis().set_visible(False)\n",
        "#         col.spines[:].set_color('red')\n"
      ],
      "metadata": {
        "id": "ky3ogaTVSrtn"
      },
      "execution_count": null,
      "outputs": []
    },
    {
      "cell_type": "markdown",
      "source": [
        "# Decode"
      ],
      "metadata": {
        "id": "lAK7kIcDSHTA"
      }
    },
    {
      "cell_type": "code",
      "source": [
        "def change_binary(qr_cell,grid_cell_num):\n",
        "    qr_cells_numeric = np.ndarray((grid_cells_num, grid_cells_num), dtype=np.uint8)\n",
        "    for i, row in enumerate(qr_cells):\n",
        "        for j, cell in enumerate(row):\n",
        "            qr_cells_numeric[i, j] = (np.median(cell) // 255)\n",
        "    return qr_cells_numeric"
      ],
      "metadata": {
        "id": "ORTXvspcSGnv"
      },
      "execution_count": null,
      "outputs": []
    },
    {
      "cell_type": "code",
      "source": [
        "def getecl(qr_cells_numeric):\n",
        "    qr_cells_numeric[8]\n",
        "    # The first two bits determine the error correction level\n",
        "    # Level L (Low)         [11]\t7%  of data bytes can be restored.\n",
        "    # Level M (Medium)      [10]\t15% of data bytes can be restored.\n",
        "    # Level Q (Quartile)    [01]\t25% of data bytes can be restored.\n",
        "    # Level H (High)        [00]\t30% of data bytes can be restored.\n",
        "    ecl = [int(not(c)) for c in qr_cells_numeric[8, 0:2]]\n",
        "    # Why \"not\"? Because the standard uses '1's for black and '0's for white\n",
        "    #\n",
        "    # \"A dark module is a binary one and a light module is a binary zero.\"\n",
        "    #  - ISO/IEC 18004:2000(E)\n",
        "    #\n",
        "    # In image processing, we use them the other way.. Hence the inversion\n",
        "    return ecl\n",
        "\n",
        "def get_mask(qr_cells_numeric):\n",
        "    # Dictionary of all masks and their equivalent formulae\n",
        "    # Same row as above, the three cells after the ecl cells (converted to a string)\n",
        "    mask = [int(not(c)) for c in qr_cells_numeric[8, 2:5]]\n",
        "    mask_str = ''.join([str(c) for c in mask])\n",
        "    return mask,mask_str\n",
        "\n",
        "def get_fec(qr_cells_numeric):\n",
        "    fec = []\n",
        "    fec.append(qr_cells_numeric[8, 5])\n",
        "    fec.append(qr_cells_numeric[8, 7])\n",
        "    fec.extend(qr_cells_numeric[0:6, 8])\n",
        "    fec.extend(qr_cells_numeric[7:9, 8])\n",
        "    fec = [int(not(c)) for c in fec]\n",
        "    return fec\n",
        "\n",
        "\n",
        "#def showneededpixel(qr_cells_numeric):\n",
        "#    _, axes = plt.subplots(grid_cells_num, grid_cells_num, figsize=(5, 5))\n",
        "#    for i, row in enumerate(axes):\n",
        "#        for j, col in enumerate(row):\n",
        "\n",
        "            # col.get_xaxis().set_visible(False)\n",
        "            # col.get_yaxis().set_visible(False)\n",
        "            # if (i == 8 and j <= 8) or (i <= 8 and j == 8):\n",
        "            #     if (i != 6) and (j != 6):\n",
        "            #         col.imshow(qr_cells[i][j], cmap=\"gray\", vmin=0, vmax=255)\n",
        "            #         col.spines[:].set_color('red')\n",
        "            #         continue\n",
        "            # col.imshow(qr_cells[i][j], cmap=\"gray\", vmin=-1275, vmax=510)"
      ],
      "metadata": {
        "id": "lOGyoteyR6RD"
      },
      "execution_count": null,
      "outputs": []
    },
    {
      "cell_type": "code",
      "source": [
        "def makeinfo(ecl,mask,fec):\n",
        "    ecl[0] ^= 1\n",
        "    mask[0] ^= 1\n",
        "    mask[2] ^= 1\n",
        "    fec[5] ^= 1\n",
        "    fec[8] ^= 1\n",
        "\n",
        "# Before we proceed, let's write a function for masking to make our lives easier\n",
        "\n",
        "\n",
        "def apply_mask(qr_cells_numeric,data_start_i, data_start_j, direction,UP,DOWN,CW,CCW,UP_ENC,MASKS,mask_str):\n",
        "\n",
        "    '''\n",
        "    data_start_i/j represent the first cell's coords in its respective direction\n",
        "    direction is the masking direction, up(-enc)/down/clockwise/anti-clockwise\n",
        "    '''\n",
        "\n",
        "    result = []\n",
        "    row_offsets = []\n",
        "    col_offsets = []\n",
        "    if (direction in [UP, UP_ENC]):\n",
        "        row_offsets = [0,  0, -1, -1, -2, -2, -3, -3]\n",
        "        col_offsets = [0, -1,  0, -1,  0, -1,  0, -1]\n",
        "    if (direction == DOWN):\n",
        "        row_offsets = [0,  0,  1,  1,  2,  2,  3,  3]\n",
        "        col_offsets = [0, -1,  0, -1,  0, -1,  0, -1]\n",
        "    if (direction == CW):\n",
        "        row_offsets = [0,  0,  1,  1,  1,  1,  0,  0]\n",
        "        col_offsets = [0, -1,  0, -1, -2, -3, -2, -3]\n",
        "    if (direction == CCW):\n",
        "        row_offsets = [0,  0, -1, -1, -1, -1,  0,  0]\n",
        "        col_offsets = [0, -1,  0, -1, -2, -3, -2, -3]\n",
        "\n",
        "    for i, j in zip(row_offsets, col_offsets):\n",
        "        cell = qr_cells_numeric[data_start_i+i, data_start_j+j]\n",
        "        result.append(int(cell if MASKS[mask_str](data_start_i+i, data_start_j+j) else not cell))\n",
        "\n",
        "    return result[:4] if direction == UP_ENC else result\n",
        "# enc = apply_mask(grid_cells_num-1, grid_cells_num-1, UP_ENC)\n",
        "# len = apply_mask(grid_cells_num-3, grid_cells_num-1, UP)\n",
        "# print(len)"
      ],
      "metadata": {
        "id": "4YhDqtyjUpOU"
      },
      "execution_count": null,
      "outputs": []
    },
    {
      "cell_type": "code",
      "source": [
        "def decode(qr_cells,grid_cells_num):\n",
        "    MASKS = {\n",
        "        \"000\": lambda i, j: (i * j) % 2 + (i * j) % 3 == 0,\n",
        "        \"001\": lambda i, j: (i / 2 + j / 3) % 2 == 0,\n",
        "        \"010\": lambda i, j: ((i * j) % 3 + i + j) % 2 == 0,\n",
        "        \"011\": lambda i, j: ((i * j) % 3 + i * j) % 2 == 0,\n",
        "        \"100\": lambda i, j: i % 2 == 0,\n",
        "        \"101\": lambda i, j: (i + j) % 2 == 0,\n",
        "        \"110\": lambda i, j: (i + j) % 3 == 0,\n",
        "        \"111\": lambda i, j: j % 3 == 0,\n",
        "    }\n",
        "    UP, UP_ENC, DOWN, CW, CCW = range(5)  # A rather old-fashioned pythonic \"Enum\"\n",
        "    qr_cells_numeric=change_binary(qr_cells,grid_cells_num)\n",
        "    ecl=getecl(qr_cells_numeric)\n",
        "    mask,mask_str=get_mask(qr_cells_numeric)\n",
        "    fec=get_fec(qr_cells_numeric)\n",
        "    #showneededpixel(qr_cells_numeric)\n",
        "    makeinfo(ecl,mask,fec)\n",
        "\n",
        "    data_starting_indices = [\n",
        "    [grid_cells_num-7, grid_cells_num-1, UP],\n",
        "    [grid_cells_num-11, grid_cells_num-1, CCW],\n",
        "    [grid_cells_num-10, grid_cells_num-3, DOWN],\n",
        "    [grid_cells_num-6, grid_cells_num-3, DOWN],\n",
        "    [grid_cells_num-2, grid_cells_num-3, CW],\n",
        "    [grid_cells_num-3, grid_cells_num-5, UP],\n",
        "    [grid_cells_num-7, grid_cells_num-5, UP],\n",
        "    [grid_cells_num-11, grid_cells_num-5, CCW],\n",
        "    [grid_cells_num-10, grid_cells_num-7, DOWN],\n",
        "    [grid_cells_num-6, grid_cells_num-7, DOWN],\n",
        "    [grid_cells_num-2, grid_cells_num-7, CW],\n",
        "    [grid_cells_num-3, grid_cells_num-9, UP],\n",
        "    [grid_cells_num-7, grid_cells_num-9, UP],\n",
        "    [grid_cells_num-11, grid_cells_num-9, UP],\n",
        "    [grid_cells_num-16, grid_cells_num-9, UP],\n",
        "    [grid_cells_num-20, grid_cells_num-9, CCW],\n",
        "    [grid_cells_num-19, grid_cells_num-11, DOWN],\n",
        "    [grid_cells_num-14, grid_cells_num-11, DOWN],\n",
        "    [grid_cells_num-10, grid_cells_num-11, DOWN],\n",
        "    [grid_cells_num-6, grid_cells_num-11, DOWN],\n",
        "    # Hmm..? I actually don't know how to proceed now lol\n",
        "    ]\n",
        "\n",
        "    ans = ''\n",
        "    for a, b, d in data_starting_indices:\n",
        "        bits = apply_mask(qr_cells_numeric,a, b, d,UP,DOWN,CW,CCW,UP_ENC,MASKS,mask_str)\n",
        "        bit_string = ''.join([str(bit) for bit in bits])\n",
        "        if bit_string[:4] == \"0000\":\n",
        "            print(f'{bit_string[:4]} = 0 (NULL TERMINATOR)')\n",
        "            break\n",
        "        ans += chr(int(bit_string, 2)) # converts to binary to int, then to ASCII\n",
        "        print(f'{bit_string} = {ans[-1]}')\n",
        "    return ans\n",
        "decode(imgafterpreproc,grid_cells_num)"
      ],
      "metadata": {
        "id": "WYNLK_zmUzYN",
        "outputId": "a74479bb-ab27-40ec-fc4b-5efee55b2ebc",
        "colab": {
          "base_uri": "https://localhost:8080/",
          "height": 176
        }
      },
      "execution_count": null,
      "outputs": [
        {
          "output_type": "error",
          "ename": "NameError",
          "evalue": "name 'grid_cells_num' is not defined",
          "traceback": [
            "\u001b[0;31m---------------------------------------------------------------------------\u001b[0m",
            "\u001b[0;31mNameError\u001b[0m                                 Traceback (most recent call last)",
            "\u001b[0;32m<ipython-input-64-4db2f5ac296c>\u001b[0m in \u001b[0;36m<cell line: 54>\u001b[0;34m()\u001b[0m\n\u001b[1;32m     52\u001b[0m         \u001b[0mprint\u001b[0m\u001b[0;34m(\u001b[0m\u001b[0;34mf'{bit_string} = {ans[-1]}'\u001b[0m\u001b[0;34m)\u001b[0m\u001b[0;34m\u001b[0m\u001b[0;34m\u001b[0m\u001b[0m\n\u001b[1;32m     53\u001b[0m     \u001b[0;32mreturn\u001b[0m \u001b[0mans\u001b[0m\u001b[0;34m\u001b[0m\u001b[0;34m\u001b[0m\u001b[0m\n\u001b[0;32m---> 54\u001b[0;31m \u001b[0mdecode\u001b[0m\u001b[0;34m(\u001b[0m\u001b[0mimgafterpreproc\u001b[0m\u001b[0;34m,\u001b[0m\u001b[0mgrid_cells_num\u001b[0m\u001b[0;34m)\u001b[0m\u001b[0;34m\u001b[0m\u001b[0;34m\u001b[0m\u001b[0m\n\u001b[0m",
            "\u001b[0;31mNameError\u001b[0m: name 'grid_cells_num' is not defined"
          ]
        }
      ]
    },
    {
      "cell_type": "markdown",
      "source": [
        "TEST DECODE SA7???"
      ],
      "metadata": {
        "id": "mjro6b7YU484"
      }
    },
    {
      "cell_type": "code",
      "source": [],
      "metadata": {
        "id": "tCaiInTgfZ79"
      },
      "execution_count": null,
      "outputs": []
    },
    {
      "cell_type": "code",
      "source": [
        "#check oreintation\n",
        "qr_cells,grid_cells_num,grid_cell_size,removeimg= getimageafterreshape(img)\n",
        "def checkoreintation(removeimg):\n",
        "    flipped_image = cv2.flip(removeimg, 1)\n",
        "    cv2_imshow(flipped_image)\n",
        "    #qr_cells,grid_cells_num,grid_cell_size,removeimg= getimageafterreshape(flipped_image)\n",
        "    #ans=decode(qr_cells,grid_cells_num)\n",
        "    print(ans)\n",
        "    return flipped_image\n",
        "print(\"HHH\")\n",
        "img=checkoreintation(removeimg)\n",
        "print(\"kkkk\")"
      ],
      "metadata": {
        "id": "BskfcQ1CfmKP"
      },
      "execution_count": null,
      "outputs": []
    }
  ]
}